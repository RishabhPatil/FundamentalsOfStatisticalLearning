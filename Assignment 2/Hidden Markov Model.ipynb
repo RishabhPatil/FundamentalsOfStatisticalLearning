{
 "cells": [
  {
   "cell_type": "code",
   "execution_count": 1,
   "metadata": {
    "collapsed": true
   },
   "outputs": [],
   "source": [
    "import numpy as np\n",
    "import random\n",
    "random.seed(7)"
   ]
  },
  {
   "cell_type": "code",
   "execution_count": 2,
   "metadata": {
    "collapsed": true
   },
   "outputs": [],
   "source": [
    "string = \"0ABCD0\"\n",
    "vocab = {'A':0,'B':1,'C':2,'D':3, '0':4}\n",
    "states = 3\n",
    "symbols = 5"
   ]
  },
  {
   "cell_type": "markdown",
   "metadata": {},
   "source": [
    "### Transition and Emission Probabilities"
   ]
  },
  {
   "cell_type": "code",
   "execution_count": 3,
   "metadata": {},
   "outputs": [
    {
     "name": "stdout",
     "output_type": "stream",
     "text": [
      "Transition Probabilities:\n",
      "[[0.         0.28769371 0.13401473 0.57829156 0.        ]\n",
      " [0.         0.07018978 0.51926242 0.35434762 0.05620017]\n",
      " [0.         0.26558805 0.51729592 0.07745309 0.13966295]\n",
      " [0.         0.03479135 0.64116701 0.21630139 0.10774024]\n",
      " [0.         0.         0.         0.         1.        ]]\n",
      "Emission Probabilities:\n",
      "[[0.         0.         0.         0.         1.        ]\n",
      " [0.44545295 0.0329156  0.38067629 0.06132265 0.07963251]\n",
      " [0.17798612 0.26883982 0.16370876 0.1125277  0.27693761]\n",
      " [0.05875725 0.15387723 0.407101   0.09015012 0.2901144 ]\n",
      " [0.         0.         0.         0.         1.        ]]\n"
     ]
    }
   ],
   "source": [
    "#Generate random transition and emission probabilities\n",
    "A = [[0]+[random.random() for i in range(states)]+[0]]\n",
    "B = [[0 for i in range(symbols)]]\n",
    "for i in range(states):\n",
    "    transition_probabilities = [0]+[random.random() for i in range(states+1)]\n",
    "    emission_probabilities = [random.random() for i in range(symbols)]\n",
    "    B.append(emission_probabilities)\n",
    "    A.append(transition_probabilities)\n",
    "A.append([0 for i in range(states+1)]+[1])\n",
    "B.append([0 for i in range(symbols)])\n",
    "B[0][-1] = 1\n",
    "B[-1][-1] = 1\n",
    "A = np.array(A)\n",
    "B = np.array(B)\n",
    "\n",
    "#normalize A and B\n",
    "for i in range(len(A)):\n",
    "    s = sum(A[i])\n",
    "    A[i] = A[i]/s\n",
    "    s = sum(B[i])\n",
    "    if s!=0:\n",
    "        B[i] = B[i]/s\n",
    "        \n",
    "print(\"Transition Probabilities:\")\n",
    "print(A)\n",
    "print(\"Emission Probabilities:\")\n",
    "print(B)"
   ]
  },
  {
   "cell_type": "markdown",
   "metadata": {},
   "source": [
    "### Forward Procedure"
   ]
  },
  {
   "cell_type": "code",
   "execution_count": 4,
   "metadata": {},
   "outputs": [
    {
     "name": "stdout",
     "output_type": "stream",
     "text": [
      "[[0.00000000e+00 2.29097717e-02 3.71137173e-02 1.67770710e-01\n",
      "  0.00000000e+00]\n",
      " [0.00000000e+00 7.70720986e-03 2.46802675e-02 2.77813860e-03\n",
      "  0.00000000e+00]\n",
      " [0.00000000e+00 2.36742384e-04 4.98706385e-03 8.06856711e-04\n",
      "  0.00000000e+00]\n",
      " [0.00000000e+00 5.21219343e-04 5.27150234e-04 2.62448579e-04\n",
      "  0.00000000e+00]\n",
      " [0.00000000e+00 1.13888439e-05 8.00764726e-05 2.54484994e-05\n",
      "  0.00000000e+00]\n",
      " [0.00000000e+00 1.82773505e-06 1.76281225e-05 4.56707533e-06\n",
      "  1.45655987e-05]]\n"
     ]
    }
   ],
   "source": [
    "def forward_procedure(string):   \n",
    "    length = len(string)\n",
    "\n",
    "    first_char = vocab[string[0]]\n",
    "    alpha = np.zeros((length,states+2))\n",
    "\n",
    "    alpha[0,:] = [ A[0][i]*B[i][ first_char ] for i in range(0,states+2) ]\n",
    "    for t in range(1,length):\n",
    "        alpha_t = []\n",
    "        for j in range(0, states+2):\n",
    "            s = 0\n",
    "            for i in range(0,states+2):\n",
    "                s += alpha[t-1][i]*A[i][j]\n",
    "            alpha[t,j] = s*B[j][vocab[string[t]]]\n",
    "    return alpha\n",
    "\n",
    "alpha = forward_procedure('0ABCD0')\n",
    "print(alpha)"
   ]
  },
  {
   "cell_type": "markdown",
   "metadata": {},
   "source": [
    "### Backward Procedure"
   ]
  },
  {
   "cell_type": "code",
   "execution_count": 5,
   "metadata": {},
   "outputs": [
    {
     "name": "stdout",
     "output_type": "stream",
     "text": [
      "[[2.27676200e-04 1.61150960e-04 2.47104920e-04 1.53337956e-04\n",
      "  0.00000000e+00]\n",
      " [8.30943347e-04 1.23697750e-03 1.02951452e-03 1.31245889e-03\n",
      "  0.00000000e+00]\n",
      " [1.13552429e-02 7.57612526e-03 6.41815848e-03 5.93311738e-03\n",
      "  0.00000000e+00]\n",
      " [2.86547380e-02 3.16146272e-02 2.64803026e-02 3.10585744e-02\n",
      "  0.00000000e+00]\n",
      " [2.27794199e-01 3.08394203e-01 3.26541339e-01 3.50826173e-01\n",
      "  1.00000000e+00]\n",
      " [1.00000000e+00 1.00000000e+00 1.00000000e+00 1.00000000e+00\n",
      "  1.00000000e+00]]\n"
     ]
    }
   ],
   "source": [
    "def backward_procedure(string):\n",
    "    length = len(string)\n",
    "\n",
    "    beta = np.zeros((length,states+2))\n",
    "\n",
    "    beta[length-1,:] = [ 1 for i in range(states+2)]\n",
    "\n",
    "    for t in range(length-2,-1,-1):\n",
    "        for i in range(0, states+2):\n",
    "            s = 0\n",
    "            for j in range(0, states+2):\n",
    "                s += A[i][j]*B[j][vocab[string[t+1]]]*beta[t+1,j]\n",
    "            beta[t,i] = s\n",
    "    return beta\n",
    "\n",
    "beta = backward_procedure('0ABCD0')\n",
    "print(beta)"
   ]
  },
  {
   "cell_type": "markdown",
   "metadata": {},
   "source": [
    "### Xi t,i,j\n",
    "Probability of being in state i at time t and moving to state j, given a set of observations O0 to OT"
   ]
  },
  {
   "cell_type": "code",
   "execution_count": 6,
   "metadata": {
    "collapsed": true
   },
   "outputs": [],
   "source": [
    "def Xi(t,i,j,string):\n",
    "    num = alpha[t,i] * A[i][j] * B[j][vocab[string[t+1]]] * beta[t+1][j]\n",
    "    den = 0\n",
    "    for ti in range(0,states+2):\n",
    "        for tj in range(0,states+2):\n",
    "            den += alpha[t,ti] * A[ti][tj] * B[tj][vocab[string[t+1]]] * beta[t+1][tj]\n",
    "    return num/den"
   ]
  },
  {
   "cell_type": "markdown",
   "metadata": {},
   "source": [
    "### Gamma t,i"
   ]
  },
  {
   "cell_type": "code",
   "execution_count": 7,
   "metadata": {},
   "outputs": [
    {
     "data": {
      "text/plain": [
       "1.0"
      ]
     },
     "execution_count": 7,
     "metadata": {},
     "output_type": "execute_result"
    }
   ],
   "source": [
    "def gamma(t,i,string):\n",
    "    g = 0\n",
    "    for j in range(0,states+2):\n",
    "        g += Xi(t,i,j,string)\n",
    "    return g\n",
    "gamma(0,1,string)+gamma(0,2,string)+gamma(0,3,string)"
   ]
  },
  {
   "cell_type": "code",
   "execution_count": null,
   "metadata": {
    "collapsed": true
   },
   "outputs": [],
   "source": []
  },
  {
   "cell_type": "code",
   "execution_count": 8,
   "metadata": {
    "collapsed": true
   },
   "outputs": [],
   "source": [
    "def get_pi(string):\n",
    "    pi = []\n",
    "    for i in range(0,states+2):\n",
    "        pi.append(gamma(0,i,string))\n",
    "    return pi"
   ]
  },
  {
   "cell_type": "code",
   "execution_count": 9,
   "metadata": {
    "collapsed": true
   },
   "outputs": [],
   "source": [
    "def get_A(string):\n",
    "    new_A = np.zeros((states+2, states+2))\n",
    "    for i in range(0, states+2):\n",
    "        for j in range(0, states+2):\n",
    "            num = 0\n",
    "            den = 0\n",
    "            T = len(string)\n",
    "            for t in range(0, T-1):\n",
    "                num += Xi(t,i,j,string)\n",
    "                den += gamma(t,i,string)\n",
    "            if num:\n",
    "                new_A[i][j] = num/den\n",
    "            else:\n",
    "                new_A[i][j] = 0\n",
    "    new_A[-1,-1] = 1\n",
    "    return new_A"
   ]
  },
  {
   "cell_type": "code",
   "execution_count": 10,
   "metadata": {
    "collapsed": true
   },
   "outputs": [],
   "source": [
    "def get_B(string):\n",
    "    T = len(string)\n",
    "    new_B = np.zeros((states+2,symbols))\n",
    "    for j in range(0,states+2):\n",
    "        for k in range(symbols):\n",
    "            num = 0\n",
    "            den = 0\n",
    "            for t in range(0,T-1):\n",
    "                if vocab[string[t]] == k:\n",
    "                    num += gamma(t,j,string)\n",
    "                den += gamma(t,j,string)\n",
    "            if num:\n",
    "                new_B[j][k] = num/den\n",
    "            else:\n",
    "                new_B[j][k] = 0\n",
    "    new_B[0][vocab['0']] = 1\n",
    "    new_B[-1][vocab['0']] = 1\n",
    "    return new_B"
   ]
  },
  {
   "cell_type": "code",
   "execution_count": 11,
   "metadata": {},
   "outputs": [
    {
     "name": "stdout",
     "output_type": "stream",
     "text": [
      "New Transition Matrix:\n",
      " [[0.         0.09567432 0.23766082 0.66666485 0.        ]\n",
      " [0.         0.05645478 0.60557462 0.31968832 0.01828228]\n",
      " [0.         0.25631546 0.54568847 0.09317639 0.10481968]\n",
      " [0.         0.07458077 0.69730925 0.17459865 0.05351133]\n",
      " [0.         0.         0.         0.         1.        ]]\n",
      "New Emission Matrix:\n",
      " [[0.         0.         0.         0.         1.        ]\n",
      " [0.27231536 0.05123141 0.47067566 0.10032265 0.10545491]\n",
      " [0.23814365 0.29999363 0.13083201 0.24507543 0.08595527]\n",
      " [0.07116152 0.0934297  0.15908577 0.17424477 0.50207824]\n",
      " [0.         0.         0.         0.         1.        ]]\n"
     ]
    }
   ],
   "source": [
    "nPi = get_pi(\"0ABCD0\")\n",
    "nA = get_A(\"0ABCD0\")\n",
    "nB = get_B(\"0ABCD0\")\n",
    "nA[0] = nPi\n",
    "print(\"New Transition Matrix:\\n\",nA)\n",
    "print(\"New Emission Matrix:\\n\",nB)\n",
    "# get_B(\"0ABCD0\")"
   ]
  },
  {
   "cell_type": "code",
   "execution_count": 22,
   "metadata": {},
   "outputs": [
    {
     "data": {
      "text/plain": [
       "0.00039031428207478964"
      ]
     },
     "execution_count": 22,
     "metadata": {},
     "output_type": "execute_result"
    }
   ],
   "source": [
    "def prob(string):\n",
    "    alpha = forward_procedure(string)\n",
    "    length = len(string)\n",
    "    s = 0\n",
    "    for i in range(0,states+2):\n",
    "        s += alpha[length-1][i]\n",
    "    return s\n",
    "prob('0AAA0')"
   ]
  }
 ],
 "metadata": {
  "kernelspec": {
   "display_name": "Python 3",
   "language": "python",
   "name": "python3"
  },
  "language_info": {
   "codemirror_mode": {
    "name": "ipython",
    "version": 3
   },
   "file_extension": ".py",
   "mimetype": "text/x-python",
   "name": "python",
   "nbconvert_exporter": "python",
   "pygments_lexer": "ipython3",
   "version": "3.6.1"
  }
 },
 "nbformat": 4,
 "nbformat_minor": 2
}
